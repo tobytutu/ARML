{
 "cells": [
  {
   "cell_type": "markdown",
   "metadata": {},
   "source": [
    "### This is the first figure\n",
    "![alt text](p1.tif \"Title\")\n",
    "Figure 1. Example of Integrated Vapor Transport (no AR detected)"
   ]
  },
  {
   "cell_type": "markdown",
   "metadata": {},
   "source": []
  },
  {
   "cell_type": "markdown",
   "metadata": {},
   "source": []
  },
  {
   "cell_type": "markdown",
   "metadata": {
    "collapsed": true
   },
   "source": []
  },
  {
   "cell_type": "markdown",
   "metadata": {},
   "source": [
    "## Methodology\n",
    "As mentioned in the abstract, three methods, Random Forest (RF), Artificial Neural Network (ANN) and Support Vector Machine (SVM) are applied in this study to evaluate the flood susceptibility in mountainous areas in China. Additionally, the main focus is the application of RF. Since RF, ANN and SVM are three classical statistical/machine learning techniques and especially RF and SVM are extensively covered in class, the details of the three methods are not provided here. Instead, the application procedures of these methods are provided, as to the best of the author's knowledge this study represents the first time that RF, or even machine-learning methods, has been applied to assess the flood susceptibility using historical records at such massive temporal and spatial scales. \n",
    "\n",
    "The flooding frequencies of the 1160 observed locations were plotted on a grid map of cell size $0.1\\degree \\times 0.1\\degree$. The different data layers of the explanatory factors were converted to the same cell size by using an interpolation technique. We perform a separate leave-one-out cross-validation to compare the RF results with those of other methods and justify the performance of the RF model.The flooding inventory data were partitioned into subsets of 80\\% and 20\\% to be used for calibration and validation, respectively. The calibration flooding locations (917 cells) were randomly selected, and the remaining flooding locations (243 cells) were utilized for validation.\n",
    "\n",
    "The main criterion of model performance was the widely used Nash–-Sutcliffe model efficiency index $R^2$ (this is very similar to coefficient of determination in linear regression). The mean square error (MSE) and Pearson’s correlation coefficient ($\\rho$) were used to evaluate the performance of the models. $R^2$, MSE and $\\rho$ are defined as follows:\n",
    "\n",
    "\\begin{equation} \\label{eq:3}\n",
    "    R^2=1-\\frac{\\sum_{i=1}^N (y_i-\\hat{y}_i)^2}{\\sum_{i=1}^N (y_i-\\bar{y}_i)^2}\n",
    "\\end{equation}\n",
    "\\begin{equation} \\label{eq:4}\n",
    "    MSE=\\frac{1}{N}\\sum_{i=1}^N (y_i-\\hat{y}_i)^2\n",
    "\\end{equation}\n",
    "\\begin{equation} \\label{eq:5}\n",
    "    \\rho=\\frac{\\sum_{i=1}^N y_i\\hat{y}_i}{\\sqrt{\\sum_{i=1}^N y_i^2 \\sum_{i=1}^N \\hat{y}_i^2}} \n",
    "\\end{equation}\n",
    "where, y is the observations,$\\hat{y}$ is predicted values, and $\\bar{y}$ is the mean of the observed values.\n",
    "\n",
    "ANN and SVM are used for model comparison to test the performance of the RF model, which is popular in hazard-susceptibility assessment. A three-layer back-propagation artificial neural network (BP-ANN) was adopted, which has been successfully applied to flood research. Levenberg-Marquardt was used for the ANN training based on MATLAB’s machine-learning toolboxes, which is faster than the conventional gradient descent technique. LS-SVM was first developed by Suykens and Vandewalle (1999). This method originated from traditional SVMs and is a powerful methodology for solving problems in nonlinear classification, function estimation (regression) and density estimation . The LS-SVMlab module that was developed by Suykens in a MATLAB environment was applied with a radial basis function kernel for MATLAB implementation. \n"
   ]
  },
  {
   "cell_type": "markdown",
   "metadata": {},
   "source": [
    "## Results and Discussion\n",
    "### Parameter sensitivity analysis\n",
    "Model training and testing are fundamental to the successful application of RF regression models. mtry,which is the the number of variables used per tree, and ntree, which is the number of trees used in the model, are the two most important parameters that affect model accuracy. Therefore, cross-validation was based on the RF model to analyze the sensitivity of the two parameters. As shown in Figure \\ref{fig:fig4}, the MSEs of both the OOB samples and the training samples decreased with increasing ntree and remained steady when the value of ntree exceeded 200. Additionally, the model efficiency was not sensitive to the value of mtry. The MSEs of the different mtry values were similar as ntree increased. \n",
    "![alt text](figure4.png \"Title\")"
   ]
  },
  {
   "cell_type": "markdown",
   "metadata": {},
   "source": [
    "### Explanatory factor importance analysis\n",
    "The RF model can measure a feature’s importance and incorporate it into the final results. The model can evaluate the relative contribution of each factor by permuting the values of each feature across every observation in the dataset and by measuring how much worse the MSE becomes after permutation. Figure \\ref{fig:fig5} shows the relative contributions of each input variable to the flood susceptibility. \n",
    "![alt text](figure5.png \"Title\")\n",
    "\n",
    "Figure \\ref{fig:fig5} shows that these explanatory factors can be generally divided into three groups. First, the Location factors had the largest effects on the distribution of flooding events. EV, LO and DD were the three most important explanatory factors, contributing 11.8\\%, 11.4\\% and 10.4\\% to the prediction of the total flood susceptibility, respectively. However, LA only ranked 10th among the explanatory factors and comprised 6.8\\% of the total flood susceptibility, which indicates that the east-west differences in the flooding events were much larger than the north-south differences.\n",
    "The second most important group of factors was the precipitation factors. SM, AP and EP, ranked from 4th to 6th, comprising 9.9\\%, 11.4\\% and 10.4\\% of the total flood susceptibility, respectively. The exception was FP, which ranked 9th and comprised 7.7\\% of the total flood susceptibility.\n",
    "The last group was the factors that represent the local property factors. SL, VC, RE and CN ranked 7th, 8th, 10th and 12th, comprising 8.4\\%, 8.3\\%, 5.7\\% and 1.7\\% of the total flood susceptibility, respectively.\n",
    "\n",
    "![alt text](figure6.png \"Title\")\n",
    "The effect of the number of factors that are included in the RF model is further investigated. As shown in Figure \\ref{fig:fig6}, the results indicate that out-of-bag (OOB) error generally decreased as more factors were included, but only marginal decrease was observed as the number of factors is over 7."
   ]
  },
  {
   "cell_type": "markdown",
   "metadata": {},
   "source": [
    "### Model performance\n",
    "\n",
    "The model performance was compared among the RF, ANN, and SVM. The results showed that RF produced a significant improvement in model efficiency in both the training and testing samples compared to the ANN and SVM. In particular, the RF model had the best performance, with $R^2$, MSE and ρ values of 0.83, 0.62, and 0.93 during validation, respectively. Hence, RF was the best model to assess flood susceptibility in this study. The second-best model was SVM, which achieved $R^2$, MSE and ρ values of 0.74, 0.93 and 0.87 during validation, respectively, and the highest performance during calibration. The ANN model achieved $R^2$, MSE and ρ values of 0.71, 1.07, and 0.85 in terms of the success and prediction accuracies, respectively. Figure \\ref{fig:fig7} shows the observed and simulated flood frequencies from the RF, ANN and SVM models. RF outperformed the ANN and SVM methods, especially in the identification of high-susceptibility areas. \n",
    "\n",
    "![alt text](figure7a.png \"Title\")\n",
    "The spatial distribution of flood susceptibility as predicted by the RF model is shown in Figure \\ref{fig:fig8}. The flood-susceptibility return-period map was classified according to the return period of flooding events. A total of 42.1\\% of the mountainous areas (highest, high, and medium regions) were flood-prone areas where the return period of flooding events was less than 20 years. The highest susceptibility area comprised 3.2\\%, which should be prioritized for flood management. \n",
    "![alt text](p7.jpg \"Title\")\n",
    "#### Figure 8. Flood-susceptibility map of mountainous areas in China\n",
    "\n",
    "![alt text](table12.png \"Title\")\n",
    "Two independent datasets were used to validate the model outputs. The first dataset comprised major historical flooding records from the Bulletin of Flood and Drought Disasters in China (BFDC), which has been published annually by the Chinese government since 2006. These records contain 21 flooding events that were reported by the BFDC from 2006 to 2014. For example, a typical mountainous flood occurred in Dujiangyan in 2013, which caused 71 deaths and 2.03 billion yuan in economic losses (MWRC, 2013). The second dataset comprised 62 flooding events from 2008 to 2014. These mountainous flooding events were obtained from online news reports and yearbooks by means of data mining; the dataset included floods of various scales and had greater uncertainty. Table 4 shows the accuracy of the flood-susceptibility map, as verified by these two datasets. All the records in dataset 1 and most of the records (90.3%) in dataset 2 were located in flood-prone areas, which reveal that the RF model achieved satisfactory accuracy. Meanwhile, 6 records from dataset 2 were spread around areas of low and lowest susceptibility. The main reason was that these data included some localized debris flows, which could not be assessed at 0.1° × 0.1° resolution. Therefore, some flooding events that were caused by other phenomena (such as earthquakes or hail) had specific characteristics that require further investigation. "
   ]
  },
  {
   "cell_type": "markdown",
   "metadata": {},
   "source": [
    "## Concluding remarks\n",
    "\n",
    "Flooding is one of the most catastrophic phenomena that occur in mountainous environments, especially in China. Therefore, flood-susceptibility mapping is vital for disaster management, which is an essential element of sustainable development. Historical flooding records play an important role in evaluation, especially when gauged hydrological data are lacking. In this paper, a flood-susceptibility assessment model that was based on the Random Forest (RF) method was presented and applied to China’s mountainous areas on a national scale. The objective of this study was to investigate whether a stable relationship existed between the occurrence frequencies of flooding events and explanatory factors and whether the RF approach could successfully describe this relationship. Flooding observations for the period 1949–2000 were selected to compare the results of the RF model with those of ANN and SVM models. The key points of this study are summarized below:\n",
    "\n",
    "(1) The RF model successfully characterized the relationship between the explanatory factors and the occurrence frequencies of flooding events and outperformed the ANN, and SVM models. The RF showed the highest model efficiency in both the calibration and validation periods. In addition, it was observed that the model efficiency of the RF increased continuously by considering more explanatory factors. In this study, all 12 explanatory factors were considered in the RF model. By taking full advantage of the information in the explanatory factors and avoiding the influence of noise, the RF model performance dominated the other results.\n",
    "\n",
    "(2) The contributions of the twelve explanatory factors were evaluated via the RF model. Generally, the position information factors EV, LO and DD were the three most important factors for predicting flood susceptibility, which indicated the high spatial variability of the susceptibility. Next were the precipitation factors SM, AP and EP, and the rainfall distribution had a great influence. The local property factors RE and CN were the least important. \n",
    "\n",
    "(3) Flood susceptibility was classified into five levels according to the return time: 42.1% of the mountainous areas (highest, high, and medium susceptibility) in China were flood-prone areas. The highest-susceptibility area comprised 3.2% of the study area and should be prioritized for flood management. Two datasets of historical flooding events validated the RF results, and most historical flooding events were located in flood-prone areas, which revealed that the RF model achieved satisfactory accuracy.\n"
   ]
  },
  {
   "cell_type": "markdown",
   "metadata": {},
   "source": [
    "## Appendix"
   ]
  },
  {
   "cell_type": "code",
   "execution_count": null,
   "metadata": {
    "collapsed": true
   },
   "outputs": [],
   "source": [
    "\n"
   ]
  },
  {
   "cell_type": "code",
   "execution_count": null,
   "metadata": {
    "collapsed": true
   },
   "outputs": [],
   "source": []
  }
 ],
 "metadata": {
  "kernelspec": {
   "display_name": "Python 3",
   "language": "python",
   "name": "python3"
  },
  "language_info": {
   "codemirror_mode": {
    "name": "ipython",
    "version": 3
   },
   "file_extension": ".py",
   "mimetype": "text/x-python",
   "name": "python",
   "nbconvert_exporter": "python",
   "pygments_lexer": "ipython3",
   "version": "3.6.4"
  }
 },
 "nbformat": 4,
 "nbformat_minor": 2
}
